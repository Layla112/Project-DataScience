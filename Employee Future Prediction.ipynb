{
 "cells": [
  {
   "cell_type": "markdown",
   "id": "9fe2bf2c",
   "metadata": {},
   "source": [
    "# Import Libraries"
   ]
  },
  {
   "cell_type": "code",
   "execution_count": 101,
   "id": "d3664b52",
   "metadata": {},
   "outputs": [],
   "source": [
    "#  basic library to handle the data \n",
    "import pandas as pd\n",
    "import numpy as np\n",
    "# data visualization \n",
    "import matplotlib.pyplot as plt\n",
    "import seaborn as sns\n",
    "# feature engineering\n",
    "from sklearn.preprocessing import LabelEncoder\n",
    "from sklearn.preprocessing import StandardScaler\n",
    "#  to split the data \n",
    "from sklearn.model_selection import train_test_split\n",
    "\n",
    "\n",
    "# classification models \n",
    "from sklearn.discriminant_analysis import QuadraticDiscriminantAnalysis\n",
    "from sklearn.neural_network import MLPClassifier\n",
    "from sklearn.naive_bayes import GaussianNB\n",
    "from sklearn.tree import DecisionTreeClassifier\n",
    "from sklearn.neighbors import KNeighborsClassifier\n",
    "from sklearn.svm import SVC\n",
    "# calculate the accuracy\n",
    "from sklearn.metrics import accuracy_score,precision_score,recall_score,f1_score,roc_curve"
   ]
  },
  {
   "cell_type": "markdown",
   "id": "d6e52e34",
   "metadata": {},
   "source": [
    "# Exploratory Data Analysis (EDA)"
   ]
  },
  {
   "cell_type": "code",
   "execution_count": 102,
   "id": "78a5282a",
   "metadata": {},
   "outputs": [
    {
     "data": {
      "text/html": [
       "<div>\n",
       "<style scoped>\n",
       "    .dataframe tbody tr th:only-of-type {\n",
       "        vertical-align: middle;\n",
       "    }\n",
       "\n",
       "    .dataframe tbody tr th {\n",
       "        vertical-align: top;\n",
       "    }\n",
       "\n",
       "    .dataframe thead th {\n",
       "        text-align: right;\n",
       "    }\n",
       "</style>\n",
       "<table border=\"1\" class=\"dataframe\">\n",
       "  <thead>\n",
       "    <tr style=\"text-align: right;\">\n",
       "      <th></th>\n",
       "      <th>Education</th>\n",
       "      <th>JoiningYear</th>\n",
       "      <th>City</th>\n",
       "      <th>PaymentTier</th>\n",
       "      <th>Age</th>\n",
       "      <th>Gender</th>\n",
       "      <th>EverBenched</th>\n",
       "      <th>ExperienceInCurrentDomain</th>\n",
       "      <th>LeaveOrNot</th>\n",
       "    </tr>\n",
       "  </thead>\n",
       "  <tbody>\n",
       "    <tr>\n",
       "      <th>0</th>\n",
       "      <td>Bachelors</td>\n",
       "      <td>2017</td>\n",
       "      <td>Bangalore</td>\n",
       "      <td>3</td>\n",
       "      <td>34</td>\n",
       "      <td>Male</td>\n",
       "      <td>No</td>\n",
       "      <td>0</td>\n",
       "      <td>0</td>\n",
       "    </tr>\n",
       "    <tr>\n",
       "      <th>1</th>\n",
       "      <td>Bachelors</td>\n",
       "      <td>2013</td>\n",
       "      <td>Pune</td>\n",
       "      <td>1</td>\n",
       "      <td>28</td>\n",
       "      <td>Female</td>\n",
       "      <td>No</td>\n",
       "      <td>3</td>\n",
       "      <td>1</td>\n",
       "    </tr>\n",
       "    <tr>\n",
       "      <th>2</th>\n",
       "      <td>Bachelors</td>\n",
       "      <td>2014</td>\n",
       "      <td>New Delhi</td>\n",
       "      <td>3</td>\n",
       "      <td>38</td>\n",
       "      <td>Female</td>\n",
       "      <td>No</td>\n",
       "      <td>2</td>\n",
       "      <td>0</td>\n",
       "    </tr>\n",
       "    <tr>\n",
       "      <th>3</th>\n",
       "      <td>Masters</td>\n",
       "      <td>2016</td>\n",
       "      <td>Bangalore</td>\n",
       "      <td>3</td>\n",
       "      <td>27</td>\n",
       "      <td>Male</td>\n",
       "      <td>No</td>\n",
       "      <td>5</td>\n",
       "      <td>1</td>\n",
       "    </tr>\n",
       "    <tr>\n",
       "      <th>4</th>\n",
       "      <td>Masters</td>\n",
       "      <td>2017</td>\n",
       "      <td>Pune</td>\n",
       "      <td>3</td>\n",
       "      <td>24</td>\n",
       "      <td>Male</td>\n",
       "      <td>Yes</td>\n",
       "      <td>2</td>\n",
       "      <td>1</td>\n",
       "    </tr>\n",
       "    <tr>\n",
       "      <th>5</th>\n",
       "      <td>Bachelors</td>\n",
       "      <td>2016</td>\n",
       "      <td>Bangalore</td>\n",
       "      <td>3</td>\n",
       "      <td>22</td>\n",
       "      <td>Male</td>\n",
       "      <td>No</td>\n",
       "      <td>0</td>\n",
       "      <td>0</td>\n",
       "    </tr>\n",
       "    <tr>\n",
       "      <th>6</th>\n",
       "      <td>Bachelors</td>\n",
       "      <td>2015</td>\n",
       "      <td>New Delhi</td>\n",
       "      <td>3</td>\n",
       "      <td>38</td>\n",
       "      <td>Male</td>\n",
       "      <td>No</td>\n",
       "      <td>0</td>\n",
       "      <td>0</td>\n",
       "    </tr>\n",
       "    <tr>\n",
       "      <th>7</th>\n",
       "      <td>Bachelors</td>\n",
       "      <td>2016</td>\n",
       "      <td>Bangalore</td>\n",
       "      <td>3</td>\n",
       "      <td>34</td>\n",
       "      <td>Female</td>\n",
       "      <td>No</td>\n",
       "      <td>2</td>\n",
       "      <td>1</td>\n",
       "    </tr>\n",
       "    <tr>\n",
       "      <th>8</th>\n",
       "      <td>Bachelors</td>\n",
       "      <td>2016</td>\n",
       "      <td>Pune</td>\n",
       "      <td>3</td>\n",
       "      <td>23</td>\n",
       "      <td>Male</td>\n",
       "      <td>No</td>\n",
       "      <td>1</td>\n",
       "      <td>0</td>\n",
       "    </tr>\n",
       "    <tr>\n",
       "      <th>9</th>\n",
       "      <td>Masters</td>\n",
       "      <td>2017</td>\n",
       "      <td>New Delhi</td>\n",
       "      <td>2</td>\n",
       "      <td>37</td>\n",
       "      <td>Male</td>\n",
       "      <td>No</td>\n",
       "      <td>2</td>\n",
       "      <td>0</td>\n",
       "    </tr>\n",
       "    <tr>\n",
       "      <th>10</th>\n",
       "      <td>Masters</td>\n",
       "      <td>2012</td>\n",
       "      <td>Bangalore</td>\n",
       "      <td>3</td>\n",
       "      <td>27</td>\n",
       "      <td>Male</td>\n",
       "      <td>No</td>\n",
       "      <td>5</td>\n",
       "      <td>1</td>\n",
       "    </tr>\n",
       "  </tbody>\n",
       "</table>\n",
       "</div>"
      ],
      "text/plain": [
       "    Education  JoiningYear       City  PaymentTier  Age  Gender EverBenched  \\\n",
       "0   Bachelors         2017  Bangalore            3   34    Male          No   \n",
       "1   Bachelors         2013       Pune            1   28  Female          No   \n",
       "2   Bachelors         2014  New Delhi            3   38  Female          No   \n",
       "3     Masters         2016  Bangalore            3   27    Male          No   \n",
       "4     Masters         2017       Pune            3   24    Male         Yes   \n",
       "5   Bachelors         2016  Bangalore            3   22    Male          No   \n",
       "6   Bachelors         2015  New Delhi            3   38    Male          No   \n",
       "7   Bachelors         2016  Bangalore            3   34  Female          No   \n",
       "8   Bachelors         2016       Pune            3   23    Male          No   \n",
       "9     Masters         2017  New Delhi            2   37    Male          No   \n",
       "10    Masters         2012  Bangalore            3   27    Male          No   \n",
       "\n",
       "    ExperienceInCurrentDomain  LeaveOrNot  \n",
       "0                           0           0  \n",
       "1                           3           1  \n",
       "2                           2           0  \n",
       "3                           5           1  \n",
       "4                           2           1  \n",
       "5                           0           0  \n",
       "6                           0           0  \n",
       "7                           2           1  \n",
       "8                           1           0  \n",
       "9                           2           0  \n",
       "10                          5           1  "
      ]
     },
     "execution_count": 102,
     "metadata": {},
     "output_type": "execute_result"
    }
   ],
   "source": [
    "df = pd.read_csv(\"data/Employee.csv\")\n",
    "df.head(11)"
   ]
  },
  {
   "cell_type": "code",
   "execution_count": 103,
   "id": "6861cb54",
   "metadata": {
    "scrolled": true
   },
   "outputs": [
    {
     "name": "stdout",
     "output_type": "stream",
     "text": [
      "<class 'pandas.core.frame.DataFrame'>\n",
      "RangeIndex: 4653 entries, 0 to 4652\n",
      "Data columns (total 9 columns):\n",
      " #   Column                     Non-Null Count  Dtype \n",
      "---  ------                     --------------  ----- \n",
      " 0   Education                  4653 non-null   object\n",
      " 1   JoiningYear                4653 non-null   int64 \n",
      " 2   City                       4653 non-null   object\n",
      " 3   PaymentTier                4653 non-null   int64 \n",
      " 4   Age                        4653 non-null   int64 \n",
      " 5   Gender                     4653 non-null   object\n",
      " 6   EverBenched                4653 non-null   object\n",
      " 7   ExperienceInCurrentDomain  4653 non-null   int64 \n",
      " 8   LeaveOrNot                 4653 non-null   int64 \n",
      "dtypes: int64(5), object(4)\n",
      "memory usage: 327.3+ KB\n"
     ]
    }
   ],
   "source": [
    "df.info()"
   ]
  },
  {
   "cell_type": "code",
   "execution_count": 104,
   "id": "d79d0843",
   "metadata": {},
   "outputs": [
    {
     "data": {
      "text/plain": [
       "Index(['Education', 'JoiningYear', 'City', 'PaymentTier', 'Age', 'Gender',\n",
       "       'EverBenched', 'ExperienceInCurrentDomain', 'LeaveOrNot'],\n",
       "      dtype='object')"
      ]
     },
     "execution_count": 104,
     "metadata": {},
     "output_type": "execute_result"
    }
   ],
   "source": [
    "df.keys()"
   ]
  },
  {
   "cell_type": "code",
   "execution_count": 105,
   "id": "0072d55d",
   "metadata": {},
   "outputs": [
    {
     "data": {
      "text/plain": [
       "(4653, 9)"
      ]
     },
     "execution_count": 105,
     "metadata": {},
     "output_type": "execute_result"
    }
   ],
   "source": [
    "df.shape"
   ]
  },
  {
   "cell_type": "code",
   "execution_count": 106,
   "id": "25529d50",
   "metadata": {},
   "outputs": [
    {
     "data": {
      "text/plain": [
       "Education                     3\n",
       "JoiningYear                   7\n",
       "City                          3\n",
       "PaymentTier                   3\n",
       "Age                          20\n",
       "Gender                        2\n",
       "EverBenched                   2\n",
       "ExperienceInCurrentDomain     8\n",
       "LeaveOrNot                    2\n",
       "dtype: int64"
      ]
     },
     "execution_count": 106,
     "metadata": {},
     "output_type": "execute_result"
    }
   ],
   "source": [
    "df.nunique()"
   ]
  },
  {
   "cell_type": "markdown",
   "id": "1012ce98",
   "metadata": {},
   "source": [
    "# Data Pre-Processing"
   ]
  },
  {
   "cell_type": "markdown",
   "id": "b544f375",
   "metadata": {},
   "source": [
    "## Dealing with missing data :"
   ]
  },
  {
   "cell_type": "code",
   "execution_count": 107,
   "id": "4905c457",
   "metadata": {},
   "outputs": [
    {
     "data": {
      "text/plain": [
       "Education                    0\n",
       "JoiningYear                  0\n",
       "City                         0\n",
       "PaymentTier                  0\n",
       "Age                          0\n",
       "Gender                       0\n",
       "EverBenched                  0\n",
       "ExperienceInCurrentDomain    0\n",
       "LeaveOrNot                   0\n",
       "dtype: int64"
      ]
     },
     "execution_count": 107,
     "metadata": {},
     "output_type": "execute_result"
    }
   ],
   "source": [
    "df.isnull().sum()  # there is no missing data"
   ]
  },
  {
   "cell_type": "markdown",
   "id": "ef53531a",
   "metadata": {},
   "source": [
    "## Dealing with duplicate :"
   ]
  },
  {
   "cell_type": "code",
   "execution_count": 108,
   "id": "d473aef3",
   "metadata": {},
   "outputs": [
    {
     "data": {
      "text/html": [
       "<div>\n",
       "<style scoped>\n",
       "    .dataframe tbody tr th:only-of-type {\n",
       "        vertical-align: middle;\n",
       "    }\n",
       "\n",
       "    .dataframe tbody tr th {\n",
       "        vertical-align: top;\n",
       "    }\n",
       "\n",
       "    .dataframe thead th {\n",
       "        text-align: right;\n",
       "    }\n",
       "</style>\n",
       "<table border=\"1\" class=\"dataframe\">\n",
       "  <thead>\n",
       "    <tr style=\"text-align: right;\">\n",
       "      <th></th>\n",
       "      <th>Education</th>\n",
       "      <th>JoiningYear</th>\n",
       "      <th>City</th>\n",
       "      <th>PaymentTier</th>\n",
       "      <th>Age</th>\n",
       "      <th>Gender</th>\n",
       "      <th>EverBenched</th>\n",
       "      <th>ExperienceInCurrentDomain</th>\n",
       "      <th>LeaveOrNot</th>\n",
       "    </tr>\n",
       "  </thead>\n",
       "  <tbody>\n",
       "    <tr>\n",
       "      <th>111</th>\n",
       "      <td>Bachelors</td>\n",
       "      <td>2017</td>\n",
       "      <td>Pune</td>\n",
       "      <td>2</td>\n",
       "      <td>27</td>\n",
       "      <td>Female</td>\n",
       "      <td>No</td>\n",
       "      <td>5</td>\n",
       "      <td>1</td>\n",
       "    </tr>\n",
       "    <tr>\n",
       "      <th>130</th>\n",
       "      <td>Bachelors</td>\n",
       "      <td>2017</td>\n",
       "      <td>Bangalore</td>\n",
       "      <td>3</td>\n",
       "      <td>26</td>\n",
       "      <td>Female</td>\n",
       "      <td>No</td>\n",
       "      <td>4</td>\n",
       "      <td>0</td>\n",
       "    </tr>\n",
       "    <tr>\n",
       "      <th>138</th>\n",
       "      <td>Bachelors</td>\n",
       "      <td>2017</td>\n",
       "      <td>New Delhi</td>\n",
       "      <td>3</td>\n",
       "      <td>28</td>\n",
       "      <td>Male</td>\n",
       "      <td>No</td>\n",
       "      <td>2</td>\n",
       "      <td>0</td>\n",
       "    </tr>\n",
       "    <tr>\n",
       "      <th>160</th>\n",
       "      <td>Bachelors</td>\n",
       "      <td>2014</td>\n",
       "      <td>Bangalore</td>\n",
       "      <td>3</td>\n",
       "      <td>28</td>\n",
       "      <td>Female</td>\n",
       "      <td>No</td>\n",
       "      <td>3</td>\n",
       "      <td>0</td>\n",
       "    </tr>\n",
       "    <tr>\n",
       "      <th>167</th>\n",
       "      <td>Bachelors</td>\n",
       "      <td>2014</td>\n",
       "      <td>Bangalore</td>\n",
       "      <td>3</td>\n",
       "      <td>25</td>\n",
       "      <td>Male</td>\n",
       "      <td>No</td>\n",
       "      <td>3</td>\n",
       "      <td>0</td>\n",
       "    </tr>\n",
       "    <tr>\n",
       "      <th>...</th>\n",
       "      <td>...</td>\n",
       "      <td>...</td>\n",
       "      <td>...</td>\n",
       "      <td>...</td>\n",
       "      <td>...</td>\n",
       "      <td>...</td>\n",
       "      <td>...</td>\n",
       "      <td>...</td>\n",
       "      <td>...</td>\n",
       "    </tr>\n",
       "    <tr>\n",
       "      <th>4640</th>\n",
       "      <td>Bachelors</td>\n",
       "      <td>2015</td>\n",
       "      <td>Bangalore</td>\n",
       "      <td>3</td>\n",
       "      <td>35</td>\n",
       "      <td>Male</td>\n",
       "      <td>No</td>\n",
       "      <td>0</td>\n",
       "      <td>0</td>\n",
       "    </tr>\n",
       "    <tr>\n",
       "      <th>4642</th>\n",
       "      <td>Bachelors</td>\n",
       "      <td>2012</td>\n",
       "      <td>Bangalore</td>\n",
       "      <td>3</td>\n",
       "      <td>36</td>\n",
       "      <td>Female</td>\n",
       "      <td>No</td>\n",
       "      <td>4</td>\n",
       "      <td>0</td>\n",
       "    </tr>\n",
       "    <tr>\n",
       "      <th>4646</th>\n",
       "      <td>Bachelors</td>\n",
       "      <td>2013</td>\n",
       "      <td>Bangalore</td>\n",
       "      <td>3</td>\n",
       "      <td>25</td>\n",
       "      <td>Female</td>\n",
       "      <td>No</td>\n",
       "      <td>3</td>\n",
       "      <td>0</td>\n",
       "    </tr>\n",
       "    <tr>\n",
       "      <th>4648</th>\n",
       "      <td>Bachelors</td>\n",
       "      <td>2013</td>\n",
       "      <td>Bangalore</td>\n",
       "      <td>3</td>\n",
       "      <td>26</td>\n",
       "      <td>Female</td>\n",
       "      <td>No</td>\n",
       "      <td>4</td>\n",
       "      <td>0</td>\n",
       "    </tr>\n",
       "    <tr>\n",
       "      <th>4652</th>\n",
       "      <td>Bachelors</td>\n",
       "      <td>2015</td>\n",
       "      <td>Bangalore</td>\n",
       "      <td>3</td>\n",
       "      <td>33</td>\n",
       "      <td>Male</td>\n",
       "      <td>Yes</td>\n",
       "      <td>4</td>\n",
       "      <td>0</td>\n",
       "    </tr>\n",
       "  </tbody>\n",
       "</table>\n",
       "<p>1889 rows × 9 columns</p>\n",
       "</div>"
      ],
      "text/plain": [
       "      Education  JoiningYear       City  PaymentTier  Age  Gender EverBenched  \\\n",
       "111   Bachelors         2017       Pune            2   27  Female          No   \n",
       "130   Bachelors         2017  Bangalore            3   26  Female          No   \n",
       "138   Bachelors         2017  New Delhi            3   28    Male          No   \n",
       "160   Bachelors         2014  Bangalore            3   28  Female          No   \n",
       "167   Bachelors         2014  Bangalore            3   25    Male          No   \n",
       "...         ...          ...        ...          ...  ...     ...         ...   \n",
       "4640  Bachelors         2015  Bangalore            3   35    Male          No   \n",
       "4642  Bachelors         2012  Bangalore            3   36  Female          No   \n",
       "4646  Bachelors         2013  Bangalore            3   25  Female          No   \n",
       "4648  Bachelors         2013  Bangalore            3   26  Female          No   \n",
       "4652  Bachelors         2015  Bangalore            3   33    Male         Yes   \n",
       "\n",
       "      ExperienceInCurrentDomain  LeaveOrNot  \n",
       "111                           5           1  \n",
       "130                           4           0  \n",
       "138                           2           0  \n",
       "160                           3           0  \n",
       "167                           3           0  \n",
       "...                         ...         ...  \n",
       "4640                          0           0  \n",
       "4642                          4           0  \n",
       "4646                          3           0  \n",
       "4648                          4           0  \n",
       "4652                          4           0  \n",
       "\n",
       "[1889 rows x 9 columns]"
      ]
     },
     "execution_count": 108,
     "metadata": {},
     "output_type": "execute_result"
    }
   ],
   "source": [
    "df[df.duplicated()]"
   ]
  },
  {
   "cell_type": "code",
   "execution_count": 109,
   "id": "a49bcb6e",
   "metadata": {},
   "outputs": [
    {
     "data": {
      "text/plain": [
       "1889"
      ]
     },
     "execution_count": 109,
     "metadata": {},
     "output_type": "execute_result"
    }
   ],
   "source": [
    "df.duplicated().sum()"
   ]
  },
  {
   "cell_type": "code",
   "execution_count": 110,
   "id": "48c63473",
   "metadata": {},
   "outputs": [
    {
     "data": {
      "text/html": [
       "<div>\n",
       "<style scoped>\n",
       "    .dataframe tbody tr th:only-of-type {\n",
       "        vertical-align: middle;\n",
       "    }\n",
       "\n",
       "    .dataframe tbody tr th {\n",
       "        vertical-align: top;\n",
       "    }\n",
       "\n",
       "    .dataframe thead th {\n",
       "        text-align: right;\n",
       "    }\n",
       "</style>\n",
       "<table border=\"1\" class=\"dataframe\">\n",
       "  <thead>\n",
       "    <tr style=\"text-align: right;\">\n",
       "      <th></th>\n",
       "      <th>Education</th>\n",
       "      <th>JoiningYear</th>\n",
       "      <th>City</th>\n",
       "      <th>PaymentTier</th>\n",
       "      <th>Age</th>\n",
       "      <th>Gender</th>\n",
       "      <th>EverBenched</th>\n",
       "      <th>ExperienceInCurrentDomain</th>\n",
       "      <th>LeaveOrNot</th>\n",
       "    </tr>\n",
       "  </thead>\n",
       "  <tbody>\n",
       "    <tr>\n",
       "      <th>0</th>\n",
       "      <td>Bachelors</td>\n",
       "      <td>2017</td>\n",
       "      <td>Bangalore</td>\n",
       "      <td>3</td>\n",
       "      <td>34</td>\n",
       "      <td>Male</td>\n",
       "      <td>No</td>\n",
       "      <td>0</td>\n",
       "      <td>0</td>\n",
       "    </tr>\n",
       "    <tr>\n",
       "      <th>1</th>\n",
       "      <td>Bachelors</td>\n",
       "      <td>2013</td>\n",
       "      <td>Pune</td>\n",
       "      <td>1</td>\n",
       "      <td>28</td>\n",
       "      <td>Female</td>\n",
       "      <td>No</td>\n",
       "      <td>3</td>\n",
       "      <td>1</td>\n",
       "    </tr>\n",
       "    <tr>\n",
       "      <th>2</th>\n",
       "      <td>Bachelors</td>\n",
       "      <td>2014</td>\n",
       "      <td>New Delhi</td>\n",
       "      <td>3</td>\n",
       "      <td>38</td>\n",
       "      <td>Female</td>\n",
       "      <td>No</td>\n",
       "      <td>2</td>\n",
       "      <td>0</td>\n",
       "    </tr>\n",
       "    <tr>\n",
       "      <th>3</th>\n",
       "      <td>Masters</td>\n",
       "      <td>2016</td>\n",
       "      <td>Bangalore</td>\n",
       "      <td>3</td>\n",
       "      <td>27</td>\n",
       "      <td>Male</td>\n",
       "      <td>No</td>\n",
       "      <td>5</td>\n",
       "      <td>1</td>\n",
       "    </tr>\n",
       "    <tr>\n",
       "      <th>4</th>\n",
       "      <td>Masters</td>\n",
       "      <td>2017</td>\n",
       "      <td>Pune</td>\n",
       "      <td>3</td>\n",
       "      <td>24</td>\n",
       "      <td>Male</td>\n",
       "      <td>Yes</td>\n",
       "      <td>2</td>\n",
       "      <td>1</td>\n",
       "    </tr>\n",
       "    <tr>\n",
       "      <th>...</th>\n",
       "      <td>...</td>\n",
       "      <td>...</td>\n",
       "      <td>...</td>\n",
       "      <td>...</td>\n",
       "      <td>...</td>\n",
       "      <td>...</td>\n",
       "      <td>...</td>\n",
       "      <td>...</td>\n",
       "      <td>...</td>\n",
       "    </tr>\n",
       "    <tr>\n",
       "      <th>4645</th>\n",
       "      <td>Masters</td>\n",
       "      <td>2017</td>\n",
       "      <td>Pune</td>\n",
       "      <td>2</td>\n",
       "      <td>31</td>\n",
       "      <td>Female</td>\n",
       "      <td>No</td>\n",
       "      <td>2</td>\n",
       "      <td>0</td>\n",
       "    </tr>\n",
       "    <tr>\n",
       "      <th>4647</th>\n",
       "      <td>Bachelors</td>\n",
       "      <td>2016</td>\n",
       "      <td>Pune</td>\n",
       "      <td>3</td>\n",
       "      <td>30</td>\n",
       "      <td>Male</td>\n",
       "      <td>No</td>\n",
       "      <td>2</td>\n",
       "      <td>0</td>\n",
       "    </tr>\n",
       "    <tr>\n",
       "      <th>4649</th>\n",
       "      <td>Masters</td>\n",
       "      <td>2013</td>\n",
       "      <td>Pune</td>\n",
       "      <td>2</td>\n",
       "      <td>37</td>\n",
       "      <td>Male</td>\n",
       "      <td>No</td>\n",
       "      <td>2</td>\n",
       "      <td>1</td>\n",
       "    </tr>\n",
       "    <tr>\n",
       "      <th>4650</th>\n",
       "      <td>Masters</td>\n",
       "      <td>2018</td>\n",
       "      <td>New Delhi</td>\n",
       "      <td>3</td>\n",
       "      <td>27</td>\n",
       "      <td>Male</td>\n",
       "      <td>No</td>\n",
       "      <td>5</td>\n",
       "      <td>1</td>\n",
       "    </tr>\n",
       "    <tr>\n",
       "      <th>4651</th>\n",
       "      <td>Bachelors</td>\n",
       "      <td>2012</td>\n",
       "      <td>Bangalore</td>\n",
       "      <td>3</td>\n",
       "      <td>30</td>\n",
       "      <td>Male</td>\n",
       "      <td>Yes</td>\n",
       "      <td>2</td>\n",
       "      <td>0</td>\n",
       "    </tr>\n",
       "  </tbody>\n",
       "</table>\n",
       "<p>2764 rows × 9 columns</p>\n",
       "</div>"
      ],
      "text/plain": [
       "      Education  JoiningYear       City  PaymentTier  Age  Gender EverBenched  \\\n",
       "0     Bachelors         2017  Bangalore            3   34    Male          No   \n",
       "1     Bachelors         2013       Pune            1   28  Female          No   \n",
       "2     Bachelors         2014  New Delhi            3   38  Female          No   \n",
       "3       Masters         2016  Bangalore            3   27    Male          No   \n",
       "4       Masters         2017       Pune            3   24    Male         Yes   \n",
       "...         ...          ...        ...          ...  ...     ...         ...   \n",
       "4645    Masters         2017       Pune            2   31  Female          No   \n",
       "4647  Bachelors         2016       Pune            3   30    Male          No   \n",
       "4649    Masters         2013       Pune            2   37    Male          No   \n",
       "4650    Masters         2018  New Delhi            3   27    Male          No   \n",
       "4651  Bachelors         2012  Bangalore            3   30    Male         Yes   \n",
       "\n",
       "      ExperienceInCurrentDomain  LeaveOrNot  \n",
       "0                             0           0  \n",
       "1                             3           1  \n",
       "2                             2           0  \n",
       "3                             5           1  \n",
       "4                             2           1  \n",
       "...                         ...         ...  \n",
       "4645                          2           0  \n",
       "4647                          2           0  \n",
       "4649                          2           1  \n",
       "4650                          5           1  \n",
       "4651                          2           0  \n",
       "\n",
       "[2764 rows x 9 columns]"
      ]
     },
     "execution_count": 110,
     "metadata": {},
     "output_type": "execute_result"
    }
   ],
   "source": [
    "df = df.drop_duplicates()\n",
    "df"
   ]
  },
  {
   "cell_type": "code",
   "execution_count": 111,
   "id": "817df30a",
   "metadata": {},
   "outputs": [
    {
     "data": {
      "text/plain": [
       "(2764, 9)"
      ]
     },
     "execution_count": 111,
     "metadata": {},
     "output_type": "execute_result"
    }
   ],
   "source": [
    "df.shape"
   ]
  },
  {
   "cell_type": "code",
   "execution_count": 112,
   "id": "2517b158",
   "metadata": {},
   "outputs": [
    {
     "data": {
      "image/png": "[encoded data removed]",
      "text/plain": [
       "<Figure size 576x432 with 1 Axes>"
      ]
     },
     "metadata": {},
     "output_type": "display_data"
    }
   ],
   "source": [
    "labels=df['LeaveOrNot'].value_counts().keys()\n",
    "plt.figure(figsize=(8,6))\n",
    "plt.pie(x= df['LeaveOrNot'].value_counts(),labels=['Staying', 'Leaving'], autopct=\"%0.2f%%\")\n",
    "plt.axis(\"equal\")\n",
    "plt.title(\"Distribution employees\".title(), fontsize=15)\n",
    "plt.legend()\n",
    "plt.show()\n",
    "#Most of the employess are not supposed to leave"
   ]
  },
  {
   "cell_type": "markdown",
   "id": "7406c591",
   "metadata": {},
   "source": [
    "# Explorating by Visualization "
   ]
  },
  {
   "cell_type": "markdown",
   "id": "1c3f3c9d",
   "metadata": {},
   "source": [
    "##  - Gender"
   ]
  },
  {
   "cell_type": "markdown",
   "id": "6b45e886",
   "metadata": {},
   "source": [
    "Are there more female or male employees?"
   ]
  },
  {
   "cell_type": "code",
   "execution_count": 113,
   "id": "b017a44a",
   "metadata": {},
   "outputs": [
    {
     "data": {
      "text/plain": [
       "Male      1529\n",
       "Female    1235\n",
       "Name: Gender, dtype: int64"
      ]
     },
     "execution_count": 113,
     "metadata": {},
     "output_type": "execute_result"
    }
   ],
   "source": [
    "df['Gender'].value_counts()"
   ]
  },
  {
   "cell_type": "code",
   "execution_count": 114,
   "id": "c945433a",
   "metadata": {},
   "outputs": [
    {
     "data": {
      "image/png": "[encoded data removed]",
      "text/plain": [
       "<Figure size 576x432 with 1 Axes>"
      ]
     },
     "metadata": {},
     "output_type": "display_data"
    }
   ],
   "source": [
    "f=sum(df['Gender'] == 'Female')\n",
    "m=sum(df['Gender'] == 'Male')\n",
    "proportions = [m,f]\n",
    "plt.figure(figsize=(8,6))\n",
    "plt.pie(proportions,labels=['Males', 'Females'], autopct=\"%0.2f%%\")\n",
    "plt.axis(\"equal\")\n",
    "plt.title(\"Distribution of  Males and Female\".title(), fontsize=15)\n",
    "plt.legend()\n",
    "plt.show()"
   ]
  },
  {
   "cell_type": "markdown",
   "id": "ae55da71",
   "metadata": {},
   "source": [
    "Are there more female or male employees who are leaving the company?"
   ]
  },
  {
   "cell_type": "code",
   "execution_count": 115,
   "id": "4e8a78a7",
   "metadata": {},
   "outputs": [
    {
     "data": {
      "text/plain": [
       "614"
      ]
     },
     "execution_count": 115,
     "metadata": {},
     "output_type": "execute_result"
    }
   ],
   "source": [
    "num_f =sum(df[df['Gender'] == 'Female']['LeaveOrNot']==1) \n",
    "num_f"
   ]
  },
  {
   "cell_type": "code",
   "execution_count": 116,
   "id": "7f96eb5d",
   "metadata": {},
   "outputs": [
    {
     "data": {
      "text/plain": [
       "474"
      ]
     },
     "execution_count": 116,
     "metadata": {},
     "output_type": "execute_result"
    }
   ],
   "source": [
    "num_m= sum(df[df['Gender'] == 'Male']['LeaveOrNot']==1)\n",
    "num_m"
   ]
  },
  {
   "cell_type": "markdown",
   "id": "b6718923",
   "metadata": {},
   "source": [
    "- Female Employees are more likley to leave their job."
   ]
  },
  {
   "cell_type": "code",
   "execution_count": 117,
   "id": "dc99a91c",
   "metadata": {},
   "outputs": [
    {
     "data": {
      "image/png": "[encoded data removed]",
      "text/plain": [
       "<Figure size 576x432 with 1 Axes>"
      ]
     },
     "metadata": {},
     "output_type": "display_data"
    }
   ],
   "source": [
    "proportions = [num_m, num_f]\n",
    "plt.figure(figsize=(8,6))\n",
    "plt.pie(proportions,labels=['Males', 'Females'], autopct=\"%0.2f%%\")\n",
    "plt.axis(\"equal\")\n",
    "plt.title(\"Distribution of Males and Females leaving\".title(), fontsize=15)\n",
    "plt.legend()\n",
    "plt.show()"
   ]
  },
  {
   "cell_type": "markdown",
   "id": "716d4dfc",
   "metadata": {},
   "source": [
    "## - Age"
   ]
  },
  {
   "cell_type": "code",
   "execution_count": 118,
   "id": "78b11c86",
   "metadata": {},
   "outputs": [
    {
     "data": {
      "text/plain": [
       "28    365\n",
       "27    218\n",
       "30    186\n",
       "29    180\n",
       "26    179\n",
       "25    167\n",
       "24    161\n",
       "36    121\n",
       "40    119\n",
       "37    119\n",
       "34    118\n",
       "38    117\n",
       "39    115\n",
       "31    115\n",
       "33    114\n",
       "32    113\n",
       "35    110\n",
       "41     75\n",
       "23     41\n",
       "22     31\n",
       "Name: Age, dtype: int64"
      ]
     },
     "execution_count": 118,
     "metadata": {},
     "output_type": "execute_result"
    }
   ],
   "source": [
    "df['Age'].value_counts()"
   ]
  },
  {
   "cell_type": "markdown",
   "id": "8ff9c385",
   "metadata": {},
   "source": [
    "What is the average age of the employees?"
   ]
  },
  {
   "cell_type": "code",
   "execution_count": 119,
   "id": "96bb34e4",
   "metadata": {},
   "outputs": [
    {
     "data": {
      "text/plain": [
       "30.952966714905934"
      ]
     },
     "execution_count": 119,
     "metadata": {},
     "output_type": "execute_result"
    }
   ],
   "source": [
    "df['Age'] .mean()"
   ]
  },
  {
   "cell_type": "markdown",
   "id": "aa2692bc",
   "metadata": {},
   "source": [
    "Is there a relationship between age and employee leaving the company?"
   ]
  },
  {
   "cell_type": "code",
   "execution_count": 120,
   "id": "10fb6f4c",
   "metadata": {},
   "outputs": [
    {
     "data": {
      "text/plain": [
       "Age  LeaveOrNot\n",
       "22   0              17\n",
       "     1              14\n",
       "23   0              28\n",
       "     1              13\n",
       "24   0              80\n",
       "     1              81\n",
       "25   0              79\n",
       "     1              88\n",
       "26   0              85\n",
       "     1              94\n",
       "27   0             116\n",
       "     1             102\n",
       "28   0             224\n",
       "     1             141\n",
       "29   0             116\n",
       "     1              64\n",
       "30   0             112\n",
       "     1              74\n",
       "31   0              80\n",
       "     1              35\n",
       "32   0              65\n",
       "     1              48\n",
       "33   0              77\n",
       "     1              37\n",
       "34   0              80\n",
       "     1              38\n",
       "35   0              68\n",
       "     1              42\n",
       "36   0              80\n",
       "     1              41\n",
       "37   0              77\n",
       "     1              42\n",
       "38   0              82\n",
       "     1              35\n",
       "39   0              79\n",
       "     1              36\n",
       "40   0              79\n",
       "     1              40\n",
       "41   0              52\n",
       "     1              23\n",
       "Name: LeaveOrNot, dtype: int64"
      ]
     },
     "execution_count": 120,
     "metadata": {},
     "output_type": "execute_result"
    }
   ],
   "source": [
    "df.groupby(['Age','LeaveOrNot'])['LeaveOrNot'].count()"
   ]
  },
  {
   "cell_type": "code",
   "execution_count": 121,
   "id": "6b07c17c",
   "metadata": {},
   "outputs": [
    {
     "data": {
      "text/plain": [
       "<AxesSubplot:title={'center':'Number of employees by Age '}, xlabel='Age', ylabel='count'>"
      ]
     },
     "execution_count": 121,
     "metadata": {},
     "output_type": "execute_result"
    },
    {
     "data": {
      "image/png": "[encoded data removed]",
      "text/plain": [
       "<Figure size 1080x720 with 1 Axes>"
      ]
     },
     "metadata": {
      "needs_background": "light"
     },
     "output_type": "display_data"
    }
   ],
   "source": [
    "plt.figure(figsize=(15,10))\n",
    "plt.title(\"Number of employees by Age \", fontsize=16)\n",
    "sns.countplot(x = df['Age'])"
   ]
  },
  {
   "cell_type": "markdown",
   "id": "f322d33d",
   "metadata": {},
   "source": [
    "Most of Employees are between 24 to 30 years old."
   ]
  },
  {
   "cell_type": "markdown",
   "id": "80b4968d",
   "metadata": {},
   "source": [
    "What is the most age group that will leave the company?"
   ]
  },
  {
   "cell_type": "code",
   "execution_count": 122,
   "id": "c542d16a",
   "metadata": {},
   "outputs": [
    {
     "data": {
      "text/plain": [
       "<AxesSubplot:xlabel='Age', ylabel='count'>"
      ]
     },
     "execution_count": 122,
     "metadata": {},
     "output_type": "execute_result"
    },
    {
     "data": {
      "image/png": "[encoded data removed]",
      "text/plain": [
       "<Figure size 432x288 with 1 Axes>"
      ]
     },
     "metadata": {
      "needs_background": "light"
     },
     "output_type": "display_data"
    }
   ],
   "source": [
    "sns.countplot(x = df['Age'],hue=df['LeaveOrNot'])"
   ]
  },
  {
   "cell_type": "markdown",
   "id": "45016b1d",
   "metadata": {},
   "source": [
    "Most of Employees are between 24 to 28 years old are more likely to leave."
   ]
  },
  {
   "cell_type": "markdown",
   "id": "57e1ad62",
   "metadata": {},
   "source": [
    "##  - City "
   ]
  },
  {
   "cell_type": "markdown",
   "id": "acd52961",
   "metadata": {},
   "source": [
    "How many cities does the company's employees live in?"
   ]
  },
  {
   "cell_type": "code",
   "execution_count": 123,
   "id": "268c4ba5",
   "metadata": {},
   "outputs": [
    {
     "data": {
      "text/plain": [
       "Bangalore    1171\n",
       "Pune          801\n",
       "New Delhi     792\n",
       "Name: City, dtype: int64"
      ]
     },
     "execution_count": 123,
     "metadata": {},
     "output_type": "execute_result"
    }
   ],
   "source": [
    "df['City'].value_counts() # Most of the Employees are from bangalore"
   ]
  },
  {
   "cell_type": "markdown",
   "id": "ddc4491c",
   "metadata": {},
   "source": [
    "What city has the most employees leaving the company?"
   ]
  },
  {
   "cell_type": "code",
   "execution_count": 124,
   "id": "0b4f82a9",
   "metadata": {},
   "outputs": [
    {
     "data": {
      "text/plain": [
       "City       LeaveOrNot\n",
       "Bangalore  0             761\n",
       "           1             410\n",
       "New Delhi  0             522\n",
       "           1             270\n",
       "Pune       0             393\n",
       "           1             408\n",
       "Name: City, dtype: int64"
      ]
     },
     "execution_count": 124,
     "metadata": {},
     "output_type": "execute_result"
    }
   ],
   "source": [
    "df.groupby(['City','LeaveOrNot'])['City'].count()"
   ]
  },
  {
   "cell_type": "code",
   "execution_count": 125,
   "id": "1372408d",
   "metadata": {},
   "outputs": [
    {
     "data": {
      "text/plain": [
       "<AxesSubplot:xlabel='LeaveOrNot', ylabel='count'>"
      ]
     },
     "execution_count": 125,
     "metadata": {},
     "output_type": "execute_result"
    },
    {
     "data": {
      "image/png": "[encoded data removed]",
      "text/plain": [
       "<Figure size 1080x720 with 2 Axes>"
      ]
     },
     "metadata": {
      "needs_background": "light"
     },
     "output_type": "display_data"
    }
   ],
   "source": [
    "plt.figure(figsize = (15,10))\n",
    "plt.subplot(1,2,1)\n",
    "labels = df['City'].value_counts().keys()\n",
    "plt.pie(x = df['City'].value_counts() , \n",
    "       labels = labels,\n",
    "       explode =  (0.1,0.1,0.1),\n",
    "       autopct='%1.1f%%')\n",
    "plt.title('Distribution of City')\n",
    "plt.subplot(1,2,2)\n",
    "sns.countplot(x = df['LeaveOrNot'], hue=df['City'])"
   ]
  },
  {
   "cell_type": "markdown",
   "id": "1efe7cfc",
   "metadata": {},
   "source": [
    "42.4% employee are from Bangalore. Bangalore city employee are more likley to leave"
   ]
  },
  {
   "cell_type": "markdown",
   "id": "f35bc8bf",
   "metadata": {},
   "source": [
    " ##  - Education"
   ]
  },
  {
   "cell_type": "markdown",
   "id": "e4c1f7fd",
   "metadata": {},
   "source": [
    "What are the education levels for the employees?"
   ]
  },
  {
   "cell_type": "code",
   "execution_count": 126,
   "id": "5e9057d5",
   "metadata": {},
   "outputs": [
    {
     "data": {
      "text/plain": [
       "Bachelors    1971\n",
       "Masters       637\n",
       "PHD           156\n",
       "Name: Education, dtype: int64"
      ]
     },
     "execution_count": 126,
     "metadata": {},
     "output_type": "execute_result"
    }
   ],
   "source": [
    "df['Education'].value_counts() # Most of the Employees completed bachelors degree"
   ]
  },
  {
   "cell_type": "markdown",
   "id": "0935a179",
   "metadata": {},
   "source": [
    "Does the degree of education affect the employee’s leaving?"
   ]
  },
  {
   "cell_type": "code",
   "execution_count": 127,
   "id": "6c9ee8ec",
   "metadata": {},
   "outputs": [
    {
     "data": {
      "text/plain": [
       "Education  LeaveOrNot\n",
       "Bachelors  0             1232\n",
       "           1              739\n",
       "Masters    0              328\n",
       "           1              309\n",
       "PHD        0              116\n",
       "           1               40\n",
       "Name: Education, dtype: int64"
      ]
     },
     "execution_count": 127,
     "metadata": {},
     "output_type": "execute_result"
    }
   ],
   "source": [
    "df.groupby(['Education','LeaveOrNot'])['Education'].count()"
   ]
  },
  {
   "cell_type": "code",
   "execution_count": 128,
   "id": "719d6c9f",
   "metadata": {},
   "outputs": [
    {
     "data": {
      "text/plain": [
       "[739, 309, 40]"
      ]
     },
     "execution_count": 128,
     "metadata": {},
     "output_type": "execute_result"
    }
   ],
   "source": [
    "Ba=sum(df[df['Education'] == 'Bachelors']['LeaveOrNot']==1) \n",
    "Ma =sum(df[df['Education'] == 'Masters']['LeaveOrNot']==1) \n",
    "Phd =sum(df[df['Education'] == 'PHD']['LeaveOrNot']==1) \n",
    "Edu =[Ba,Ma,Phd]\n",
    "Edu"
   ]
  },
  {
   "cell_type": "code",
   "execution_count": 129,
   "id": "7147a13c",
   "metadata": {},
   "outputs": [
    {
     "data": {
      "text/plain": [
       "<AxesSubplot:xlabel='LeaveOrNot', ylabel='count'>"
      ]
     },
     "execution_count": 129,
     "metadata": {},
     "output_type": "execute_result"
    },
    {
     "data": {
      "image/png": "[encoded data removed]",
      "text/plain": [
       "<Figure size 1080x720 with 2 Axes>"
      ]
     },
     "metadata": {
      "needs_background": "light"
     },
     "output_type": "display_data"
    }
   ],
   "source": [
    "plt.figure(figsize = (15,10))\n",
    "plt.subplot(1,2,1)\n",
    "labels = df['Education'].value_counts().keys()\n",
    "plt.pie(x = df['Education'].value_counts() , \n",
    "       labels = labels,\n",
    "       explode =  (0.1,0.1,0.1),\n",
    "       autopct='%1.1f%%')\n",
    "plt.title('Distribution of Education ')\n",
    "plt.subplot(1,2,2)\n",
    "sns.countplot(x = df['LeaveOrNot'], hue=df['Education'])"
   ]
  },
  {
   "cell_type": "markdown",
   "id": "2cca2fed",
   "metadata": {},
   "source": [
    "71.3% of the Employees are Bachelors in this dataset followed by Masters and PHD. Employees with Bachelors Education are more likley to leave"
   ]
  },
  {
   "cell_type": "markdown",
   "id": "7ffc8ddf",
   "metadata": {},
   "source": [
    "## - JoiningYear"
   ]
  },
  {
   "cell_type": "code",
   "execution_count": 130,
   "id": "ea354aa0",
   "metadata": {},
   "outputs": [
    {
     "data": {
      "text/plain": [
       "2017    662\n",
       "2015    464\n",
       "2013    396\n",
       "2014    385\n",
       "2016    310\n",
       "2012    308\n",
       "2018    239\n",
       "Name: JoiningYear, dtype: int64"
      ]
     },
     "execution_count": 130,
     "metadata": {},
     "output_type": "execute_result"
    }
   ],
   "source": [
    "df['JoiningYear'].value_counts() #Most of the employees joined in the year 2017"
   ]
  },
  {
   "cell_type": "code",
   "execution_count": 131,
   "id": "6ba60e9f",
   "metadata": {},
   "outputs": [
    {
     "data": {
      "text/plain": [
       "JoiningYear  LeaveOrNot\n",
       "2012         0             225\n",
       "             1              83\n",
       "2013         0             225\n",
       "             1             171\n",
       "2014         0             266\n",
       "             1             119\n",
       "2015         0             272\n",
       "             1             192\n",
       "2016         0             222\n",
       "             1              88\n",
       "2017         0             461\n",
       "             1             201\n",
       "2018         0               5\n",
       "             1             234\n",
       "Name: JoiningYear, dtype: int64"
      ]
     },
     "execution_count": 131,
     "metadata": {},
     "output_type": "execute_result"
    }
   ],
   "source": [
    "df.groupby(['JoiningYear','LeaveOrNot'])['JoiningYear'].count()"
   ]
  },
  {
   "cell_type": "code",
   "execution_count": 132,
   "id": "32d7b22b",
   "metadata": {},
   "outputs": [
    {
     "data": {
      "text/plain": [
       "<AxesSubplot:xlabel='JoiningYear', ylabel='count'>"
      ]
     },
     "execution_count": 132,
     "metadata": {},
     "output_type": "execute_result"
    },
    {
     "data": {
      "image/png": "[encoded data removed]",
      "text/plain": [
       "<Figure size 432x288 with 1 Axes>"
      ]
     },
     "metadata": {
      "needs_background": "light"
     },
     "output_type": "display_data"
    }
   ],
   "source": [
    "sns.countplot(x = df['JoiningYear'])"
   ]
  },
  {
   "cell_type": "markdown",
   "id": "c0a342fc",
   "metadata": {},
   "source": [
    "Most of employee joined in 2017 as shown in chart."
   ]
  },
  {
   "cell_type": "code",
   "execution_count": 133,
   "id": "5364629d",
   "metadata": {
    "scrolled": true
   },
   "outputs": [
    {
     "data": {
      "image/png": "[encoded data removed]",
      "text/plain": [
       "<Figure size 432x288 with 1 Axes>"
      ]
     },
     "metadata": {
      "needs_background": "light"
     },
     "output_type": "display_data"
    }
   ],
   "source": [
    "sns.countplot(x = df['JoiningYear'],hue=df['LeaveOrNot']);"
   ]
  },
  {
   "cell_type": "markdown",
   "id": "4a55aaca",
   "metadata": {},
   "source": [
    "Most number of employee who left the company were from year 2018, followed by year 2017 and 2015"
   ]
  },
  {
   "cell_type": "markdown",
   "id": "3ccaaf80",
   "metadata": {},
   "source": [
    "## - EverBenched"
   ]
  },
  {
   "cell_type": "code",
   "execution_count": 134,
   "id": "c0816660",
   "metadata": {},
   "outputs": [
    {
     "data": {
      "text/plain": [
       "No     2403\n",
       "Yes     361\n",
       "Name: EverBenched, dtype: int64"
      ]
     },
     "execution_count": 134,
     "metadata": {},
     "output_type": "execute_result"
    }
   ],
   "source": [
    "df['EverBenched'].value_counts()"
   ]
  },
  {
   "cell_type": "code",
   "execution_count": 135,
   "id": "71fd8835",
   "metadata": {},
   "outputs": [
    {
     "data": {
      "image/png": "[encoded data removed]",
      "text/plain": [
       "<Figure size 576x432 with 1 Axes>"
      ]
     },
     "metadata": {},
     "output_type": "display_data"
    }
   ],
   "source": [
    "\n",
    "n=sum(df['EverBenched'] == 'No')\n",
    "y=sum(df['EverBenched'] == 'Yes')\n",
    "proportions = [n,y]\n",
    "plt.figure(figsize=(8,6))\n",
    "plt.pie(proportions,labels=['No', 'Yes'], autopct=\"%0.2f%%\")\n",
    "plt.axis(\"equal\")\n",
    "plt.legend()\n",
    "plt.show()"
   ]
  },
  {
   "cell_type": "code",
   "execution_count": null,
   "id": "02a3abf9",
   "metadata": {},
   "outputs": [],
   "source": []
  },
  {
   "cell_type": "markdown",
   "id": "a936570f",
   "metadata": {},
   "source": [
    "# MODELS "
   ]
  },
  {
   "cell_type": "code",
   "execution_count": 136,
   "id": "c02a378e",
   "metadata": {},
   "outputs": [],
   "source": [
    "# preparing the data for the model--->(feature engineering)\n",
    "# convert the categorical data to numarical by Encoding it \n",
    "en = LabelEncoder()\n",
    "df[\"Education\"] = en.fit_transform(df[\"Education\"])\n",
    "df[\"City\"] = en.fit_transform(df[\"City\"])\n",
    "df[\"Gender\"] = en.fit_transform(df[\"Gender\"])\n",
    "df[\"EverBenched\"] = en.fit_transform(df[\"EverBenched\"])\n",
    "df[\"City\"] = en.fit_transform(df[\"City\"])"
   ]
  },
  {
   "cell_type": "code",
   "execution_count": 137,
   "id": "5897d027",
   "metadata": {},
   "outputs": [],
   "source": [
    "y = df['LeaveOrNot']\n",
    "x = df.drop('LeaveOrNot', axis = 1)\n",
    "\n",
    "# scale the data \n",
    "s = StandardScaler()\n",
    "df = s.fit_transform(df)\n",
    "\n",
    "#  split the data to train and test the model \n",
    "x_train,x_test,y_train,y_test = train_test_split(x,y,test_size=0.25,random_state=0)"
   ]
  },
  {
   "cell_type": "markdown",
   "id": "ff5af237",
   "metadata": {},
   "source": [
    "## SVC MODEL"
   ]
  },
  {
   "cell_type": "code",
   "execution_count": 138,
   "id": "5b3308d3",
   "metadata": {},
   "outputs": [
    {
     "name": "stdout",
     "output_type": "stream",
     "text": [
      "------- SVC scores  -------\n",
      "\n",
      "SVC accuracy_score:\t\t 0.613603473227207\n",
      "SVC recall_score:\t\t 0.0\n",
      "SVC precision_score:\t\t 0.0\n",
      "SVC f1_score:\t\t\t 0.0\n",
      "\n",
      "-------------------------------\n"
     ]
    },
    {
     "name": "stderr",
     "output_type": "stream",
     "text": [
      "C:\\Users\\nsb  4  2021\\anaconda3\\lib\\site-packages\\sklearn\\metrics\\_classification.py:1248: UndefinedMetricWarning: Recall is ill-defined and being set to 0.0 due to no true samples. Use `zero_division` parameter to control this behavior.\n",
      "  _warn_prf(average, modifier, msg_start, len(result))\n"
     ]
    }
   ],
   "source": [
    "# _______________________________SVC model ___________________________\n",
    "SVM = SVC()\n",
    "# fit the data in the model\n",
    "SVM.fit(x_train,y_train)\n",
    "# let the model predict the answer\n",
    "SVM_pr = SVM.predict(x_test)\n",
    "\n",
    "# calculate the scores \n",
    "SVM_acc = accuracy_score(SVM_pr,y_test)\n",
    "SVM_recall = recall_score(SVM_pr,y_test)\n",
    "SVM_psion = precision_score(SVM_pr,y_test)\n",
    "SVM_f1Score = f1_score(SVM_pr,y_test)\n",
    "\n",
    "\n",
    "print(\"------- SVC scores  -------\\n\")\n",
    "print(\"SVC accuracy_score:\\t\\t\", SVM_acc)\n",
    "print(\"SVC recall_score:\\t\\t\", SVM_recall)\n",
    "print(\"SVC precision_score:\\t\\t\", SVM_psion)\n",
    "print(\"SVC f1_score:\\t\\t\\t\", SVM_f1Score)\n",
    "\n",
    "print(\"\\n-------------------------------\")"
   ]
  },
  {
   "cell_type": "markdown",
   "id": "bcf7d3bf",
   "metadata": {},
   "source": [
    "## QDA"
   ]
  },
  {
   "cell_type": "code",
   "execution_count": 139,
   "id": "0b752d4b",
   "metadata": {},
   "outputs": [
    {
     "name": "stdout",
     "output_type": "stream",
     "text": [
      "------- QDA scores  -------\n",
      "\n",
      "QDA accuracy_score:\t\t 0.6801736613603473\n",
      "QDA recall_score:\t\t 0.6127450980392157\n",
      "QDA precision_score:\t\t 0.4681647940074906\n",
      "QDA f1_score:\t\t\t 0.5307855626326964\n",
      "\n",
      "-------------------------------\n"
     ]
    }
   ],
   "source": [
    "# _______________________________QDA model ___________________________\n",
    "# fit the data in the model\n",
    "QDA = QuadraticDiscriminantAnalysis()\n",
    "# fit the data in the model\n",
    "QDA.fit(x_train,y_train)\n",
    "# let the model predict the answer\n",
    "QDA_pr = QDA.predict(x_test)\n",
    "\n",
    "# calculate the scores \n",
    "QDA_acc = accuracy_score(QDA_pr,y_test)\n",
    "QDA_recall = recall_score(QDA_pr,y_test)\n",
    "QDA_psion = precision_score(QDA_pr,y_test)\n",
    "QDA_f1Score = f1_score(QDA_pr,y_test)\n",
    "\n",
    "\n",
    "print(\"------- QDA scores  -------\\n\")\n",
    "print(\"QDA accuracy_score:\\t\\t\", QDA_acc)\n",
    "print(\"QDA recall_score:\\t\\t\", QDA_recall)\n",
    "print(\"QDA precision_score:\\t\\t\", QDA_psion)\n",
    "print(\"QDA f1_score:\\t\\t\\t\", QDA_f1Score)\n",
    "print(\"\\n-------------------------------\")"
   ]
  },
  {
   "cell_type": "markdown",
   "id": "38efdf29",
   "metadata": {},
   "source": [
    "## MLP"
   ]
  },
  {
   "cell_type": "code",
   "execution_count": 140,
   "id": "8d32ee30",
   "metadata": {},
   "outputs": [
    {
     "name": "stdout",
     "output_type": "stream",
     "text": [
      "------- MLP scores  -------\n",
      "\n",
      "MLP accuracy_score:\t\t 0.38639652677279307\n",
      "MLP recall_score:\t\t 0.38639652677279307\n",
      "MLP precision_score:\t\t 1.0\n",
      "MLP f1_score:\t\t\t 0.55741127348643\n",
      "\n",
      "-------------------------------\n"
     ]
    }
   ],
   "source": [
    "# _______________________________MLP model ___________________________\n",
    "# fit the data in the model\n",
    "MLP = MLPClassifier()\n",
    "# fit the data in the model\n",
    "MLP.fit(x_train,y_train)\n",
    "# let the model predict the answer\n",
    "MLP_pr = MLP.predict(x_test)\n",
    "\n",
    "# calculate the scores \n",
    "MLP_acc = accuracy_score(MLP_pr,y_test)\n",
    "MLP_recall = recall_score(MLP_pr,y_test)\n",
    "MLP_psion = precision_score(MLP_pr,y_test)\n",
    "MLP_f1Score = f1_score(MLP_pr,y_test)\n",
    "\n",
    "\n",
    "print(\"------- MLP scores  -------\\n\")\n",
    "print(\"MLP accuracy_score:\\t\\t\", MLP_acc)\n",
    "print(\"MLP recall_score:\\t\\t\", MLP_recall)\n",
    "print(\"MLP precision_score:\\t\\t\", MLP_psion)\n",
    "print(\"MLP f1_score:\\t\\t\\t\", MLP_f1Score)\n",
    "print(\"\\n-------------------------------\")"
   ]
  },
  {
   "cell_type": "markdown",
   "id": "49f01a28",
   "metadata": {},
   "source": [
    "## GaussianNB "
   ]
  },
  {
   "cell_type": "code",
   "execution_count": 141,
   "id": "a41a0145",
   "metadata": {},
   "outputs": [
    {
     "name": "stdout",
     "output_type": "stream",
     "text": [
      "------- GaussianNB scores  -------\n",
      "\n",
      "GaussianNB accuracy_score:\t\t 0.6425470332850941\n",
      "GaussianNB recall_score:\t\t 0.545045045045045\n",
      "GaussianNB precision_score:\t\t 0.45318352059925093\n",
      "GaussianNB f1_score:\t\t\t 0.4948875255623722\n",
      "\n",
      "-------------------------------\n"
     ]
    }
   ],
   "source": [
    "# _______________________________GaussianNB model ___________________________\n",
    "# fit the data in the model\n",
    "NB = GaussianNB()\n",
    "# fit the data in the model\n",
    "NB.fit(x_train,y_train)\n",
    "# let the model predict the answer\n",
    "NB_pr = NB.predict(x_test)\n",
    "\n",
    "# calculate the scores \n",
    "NB_acc = accuracy_score(NB_pr,y_test)\n",
    "NB_recall = recall_score(NB_pr,y_test)\n",
    "NB_psion = precision_score(NB_pr,y_test)\n",
    "NB_f1Score = f1_score(NB_pr,y_test)\n",
    "\n",
    "\n",
    "print(\"------- GaussianNB scores  -------\\n\")\n",
    "print(\"GaussianNB accuracy_score:\\t\\t\", NB_acc)\n",
    "print(\"GaussianNB recall_score:\\t\\t\", NB_recall)\n",
    "print(\"GaussianNB precision_score:\\t\\t\", NB_psion)\n",
    "print(\"GaussianNB f1_score:\\t\\t\\t\", NB_f1Score)\n",
    "print(\"\\n-------------------------------\")"
   ]
  },
  {
   "cell_type": "markdown",
   "id": "92348f44",
   "metadata": {},
   "source": [
    "## DecisionTreeClassifier\n"
   ]
  },
  {
   "cell_type": "code",
   "execution_count": 142,
   "id": "0b35dbd6",
   "metadata": {},
   "outputs": [
    {
     "name": "stdout",
     "output_type": "stream",
     "text": [
      "------- DecisionTreeClassifier scores  -------\n",
      "\n",
      "DecisionTreeClassifier accuracy_score:\t\t 0.7062228654124457\n",
      "DecisionTreeClassifier recall_score:\t\t 0.6203007518796992\n",
      "DecisionTreeClassifier precision_score:\t\t 0.6179775280898876\n",
      "DecisionTreeClassifier f1_score:\t\t 0.6191369606003753\n",
      "\n",
      "-------------------------------\n"
     ]
    }
   ],
   "source": [
    "# _______________________________ DecisionTreeClassifier model ___________________________\n",
    "# fit the data in the model\n",
    "DT = DecisionTreeClassifier()\n",
    "# fit the data in the model\n",
    "DT.fit(x_train,y_train)\n",
    "# let the model predict the answer\n",
    "DT_pr = DT.predict(x_test)\n",
    "\n",
    "# calculate the scores \n",
    "DT_acc = accuracy_score(DT_pr,y_test)\n",
    "DT_recall = recall_score(DT_pr,y_test)\n",
    "DT_psion = precision_score(DT_pr,y_test)\n",
    "DT_f1Score = f1_score(DT_pr,y_test)\n",
    "\n",
    "\n",
    "print(\"------- DecisionTreeClassifier scores  -------\\n\")\n",
    "print(\"DecisionTreeClassifier accuracy_score:\\t\\t\", DT_acc)\n",
    "print(\"DecisionTreeClassifier recall_score:\\t\\t\", DT_recall)\n",
    "print(\"DecisionTreeClassifier precision_score:\\t\\t\", DT_psion)\n",
    "print(\"DecisionTreeClassifier f1_score:\\t\\t\", DT_f1Score)\n",
    "print(\"\\n-------------------------------\")"
   ]
  },
  {
   "cell_type": "markdown",
   "id": "ec20ef7d",
   "metadata": {},
   "source": [
    "## KNeighborsClassifier"
   ]
  },
  {
   "cell_type": "code",
   "execution_count": 143,
   "id": "9e976ce7",
   "metadata": {},
   "outputs": [
    {
     "name": "stdout",
     "output_type": "stream",
     "text": [
      "------- KNeighborsClassifier scores  -------\n",
      "\n",
      "KNeighborsClassifier accuracy_score:\t\t 0.7062228654124457\n",
      "KNeighborsClassifier recall_score:\t\t 0.6509433962264151\n",
      "KNeighborsClassifier precision_score:\t\t 0.5168539325842697\n",
      "KNeighborsClassifier f1_score:\t\t\t 0.5762004175365345\n",
      "\n",
      "-------------------------------\n"
     ]
    }
   ],
   "source": [
    "# _______________________________ KNeighborsClassifier model ___________________________\n",
    "# fit the data in the model\n",
    "KNN = KNeighborsClassifier()\n",
    "# fit the data in the model\n",
    "KNN.fit(x_train,y_train)\n",
    "# let the model predict the answer\n",
    "KNN_pr = KNN.predict(x_test)\n",
    "\n",
    "# calculate the scores \n",
    "KNN_acc = accuracy_score(KNN_pr,y_test)\n",
    "KNN_recall = recall_score(KNN_pr,y_test)\n",
    "KNN_psion = precision_score(KNN_pr,y_test)\n",
    "KNN_f1Score = f1_score(KNN_pr,y_test)\n",
    "\n",
    "\n",
    "print(\"------- KNeighborsClassifier scores  -------\\n\")\n",
    "print(\"KNeighborsClassifier accuracy_score:\\t\\t\", KNN_acc)\n",
    "print(\"KNeighborsClassifier recall_score:\\t\\t\", KNN_recall)\n",
    "print(\"KNeighborsClassifier precision_score:\\t\\t\", KNN_psion)\n",
    "print(\"KNeighborsClassifier f1_score:\\t\\t\\t\", KNN_f1Score)\n",
    "print(\"\\n-------------------------------\")"
   ]
  },
  {
   "cell_type": "code",
   "execution_count": null,
   "id": "406e8ad2",
   "metadata": {},
   "outputs": [],
   "source": []
  },
  {
   "cell_type": "code",
   "execution_count": null,
   "id": "d25363a0",
   "metadata": {},
   "outputs": [],
   "source": []
  },
  {
   "cell_type": "code",
   "execution_count": null,
   "id": "980b96ef",
   "metadata": {},
   "outputs": [],
   "source": []
  }
 ],
 "metadata": {
  "kernelspec": {
   "display_name": "Python 3 (ipykernel)",
   "language": "python",
   "name": "python3"
  },
  "language_info": {
   "codemirror_mode": {
    "name": "ipython",
    "version": 3
   },
   "file_extension": ".py",
   "mimetype": "text/x-python",
   "name": "python",
   "nbconvert_exporter": "python",
   "pygments_lexer": "ipython3",
   "version": "3.9.7"
  }
 },
 "nbformat": 4,
 "nbformat_minor": 5
}
